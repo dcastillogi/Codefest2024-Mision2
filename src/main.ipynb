{
 "cells": [
  {
   "cell_type": "code",
   "execution_count": 19,
   "metadata": {},
   "outputs": [
    {
     "name": "stdout",
     "output_type": "stream",
     "text": [
      "Processing complete. Files have been saved in the respective directories.\n"
     ]
    }
   ],
   "source": [
    "import csv\n",
    "import os\n",
    "\n",
    "# Define the directories\n",
    "input_dir = '../resources/raw_data/'    # Directory containing the raw CSV files\n",
    "new_data_dir = '../resources/new_data/' # Directory to save new CSV files after skipping rows\n",
    "formatted_dir = '../resources/'         # Directory to save the final formatted files\n",
    "\n",
    "# Ensure the output directories exist\n",
    "os.makedirs(new_data_dir, exist_ok=True)\n",
    "\n",
    "# Iterate over each CSV file in the raw data directory\n",
    "for file_name in os.listdir(input_dir):\n",
    "    if file_name.endswith('.csv'):  # Only process CSV files\n",
    "        input_file = os.path.join(input_dir, file_name)\n",
    "        output_file = os.path.join(new_data_dir, f'new_{file_name}')\n",
    "        formatted_file = os.path.join(formatted_dir, f'formatted_{file_name}')\n",
    "\n",
    "        # Step 1: Skip the first 687 rows and save the remaining data\n",
    "        with open(input_file, mode='r') as infile:\n",
    "            csv_reader = csv.reader(infile)\n",
    "            with open(output_file, mode='w', newline='') as outfile:\n",
    "                csv_writer = csv.writer(outfile)\n",
    "                \n",
    "                # Skip the first 687 rows\n",
    "                for _ in range(687):\n",
    "                    next(csv_reader, None)\n",
    "                \n",
    "                # Write the remaining rows to the new file\n",
    "                for row in csv_reader:\n",
    "                    csv_writer.writerow(row)\n",
    "\n",
    "        # Step 2: Reformat the file by removing the first three rows\n",
    "        with open(output_file, mode='r', encoding='utf-8') as outfile:\n",
    "            input_file_reader = csv.DictReader(outfile, delimiter=',')\n",
    "            \n",
    "            # Read the first three rows to skip them later\n",
    "            first_row = next(input_file_reader)\n",
    "            second_row = next(input_file_reader)\n",
    "            third_row = next(input_file_reader)\n",
    "\n",
    "            # Write the formatted data to a new file\n",
    "            with open(formatted_file, mode='w', newline='') as reformatted_file:\n",
    "                reformatted_writer = csv.writer(reformatted_file)\n",
    "                reformatted_writer.writerow(first_row.keys())\n",
    "                for row in input_file_reader:\n",
    "                    # Skip the first three rows\n",
    "                    if row != first_row and row != second_row and row != third_row:\n",
    "                        reformatted_writer.writerow(row.values())\n",
    "\n",
    "print(\"Processing complete. Files have been saved in the respective directories.\")\n"
   ]
  },
  {
   "cell_type": "code",
   "execution_count": 5,
   "metadata": {},
   "outputs": [
    {
     "name": "stdout",
     "output_type": "stream",
     "text": [
      "Archivo combinado columna por columna creado en: ../resources/merge_data.csv\n"
     ]
    }
   ],
   "source": [
    "import csv\n",
    "import os\n",
    "\n",
    "# Ruta del archivo CSV donde se guardarán los datos combinados\n",
    "merge_path = '../resources/merge_data.csv'  # Cambia esta ruta según la ubicación de tu archivo\n",
    "\n",
    "# Inicializa una lista para almacenar todas las columnas de los archivos\n",
    "all_columns = []\n",
    "\n",
    "# Itera sobre los archivos CSV para leer sus columnas\n",
    "for i in range(1, 5):\n",
    "    filename = f'../resources/formatted_SPG_00{i}.csv'\n",
    "    with open(filename, mode='r', encoding='utf-8') as file:\n",
    "        # Crear un lector de CSV\n",
    "        csv_reader = csv.reader(file)\n",
    "        \n",
    "        # Leer todas las filas del archivo y transponer filas a columnas\n",
    "        rows = list(csv_reader)\n",
    "        columns = list(zip(*rows))  # Transponer filas a columnas\n",
    "        \n",
    "        # Añadir cada columna a la lista de todas las columnas\n",
    "        all_columns.extend(columns)\n",
    "\n",
    "# Transponer las columnas de nuevo a filas para escribirlas correctamente\n",
    "merged_rows = list(zip(*all_columns))\n",
    "\n",
    "# Escribir las filas transpuestas en el archivo merged_data.csv\n",
    "with open(merge_path, mode='w', newline='', encoding='utf-8') as merged_csv:\n",
    "    csv_writer = csv.writer(merged_csv)\n",
    "    # Escribir las filas en el archivo combinado\n",
    "    for row in merged_rows:\n",
    "        csv_writer.writerow(row)\n",
    "\n",
    "print(f\"Archivo combinado columna por columna creado en: {merge_path}\")\n"
   ]
  },
  {
   "cell_type": "code",
   "execution_count": 6,
   "metadata": {},
   "outputs": [
    {
     "name": "stdout",
     "output_type": "stream",
     "text": [
      "Archivo limpio creado sin columnas vacías o innecesarias: ../resources/cleaned_data.csv\n"
     ]
    }
   ],
   "source": [
    "import csv\n",
    "\n",
    "# Ruta del archivo combinado y el archivo limpio\n",
    "merge_path = '../resources/merge_data.csv'  # Archivo a limpiar\n",
    "cleaned_path = '../resources/cleaned_data.csv'  # Archivo limpio de salida\n",
    "\n",
    "# Leer el archivo y transponer filas a columnas\n",
    "with open(merge_path, mode='r', encoding='utf-8') as merged_csv:\n",
    "    csv_reader = csv.reader(merged_csv)\n",
    "    rows = list(csv_reader)\n",
    "    columns = list(zip(*rows))  # Transponer filas a columnas\n",
    "\n",
    "# Filtrar columnas vacías y columnas que comienzan con \"Timestamp\" (excepto la primera columna)\n",
    "filtered_columns = []\n",
    "for i, column in enumerate(columns):\n",
    "    # Convertir la columna de tuplas a lista para facilitar el manejo\n",
    "    column = list(column)\n",
    "    # Verificar si la columna no está vacía y no empieza por \"Timestamp\" (excepto la primera columna)\n",
    "    if any(column) and (i == 0 or not column[0].startswith('Timestamp')):\n",
    "        filtered_columns.append(column)\n",
    "\n",
    "# Transponer las columnas filtradas de nuevo a filas para escribirlas correctamente\n",
    "filtered_rows = list(zip(*filtered_columns))\n",
    "\n",
    "# Escribir las filas filtradas en un nuevo archivo limpio\n",
    "with open(cleaned_path, mode='w', newline='', encoding='utf-8') as cleaned_csv:\n",
    "    csv_writer = csv.writer(cleaned_csv)\n",
    "    for row in filtered_rows:\n",
    "        csv_writer.writerow(row)\n",
    "\n",
    "print(f\"Archivo limpio creado sin columnas vacías o innecesarias: {cleaned_path}\")\n"
   ]
  }
 ],
 "metadata": {
  "kernelspec": {
   "display_name": "Python 3",
   "language": "python",
   "name": "python3"
  },
  "language_info": {
   "codemirror_mode": {
    "name": "ipython",
    "version": 3
   },
   "file_extension": ".py",
   "mimetype": "text/x-python",
   "name": "python",
   "nbconvert_exporter": "python",
   "pygments_lexer": "ipython3",
   "version": "3.12.3"
  }
 },
 "nbformat": 4,
 "nbformat_minor": 2
}
